{
 "cells": [
  {
   "cell_type": "code",
   "execution_count": 13,
   "metadata": {},
   "outputs": [],
   "source": [
    "import numpy as np\n",
    "\n"
   ]
  },
  {
   "cell_type": "code",
   "execution_count": 14,
   "metadata": {},
   "outputs": [],
   "source": [
    "# Define the dataset of house prices and features\n",
    "X = np.array([[2600], [3000], [3200], [3600], [4000]])\n",
    "y = np.array([[550000], [565000], [610000], [680000], [725000]])\n",
    "\n"
   ]
  },
  {
   "cell_type": "code",
   "execution_count": 15,
   "metadata": {},
   "outputs": [
    {
     "data": {
      "text/plain": [
       "array([[2600],\n",
       "       [3000],\n",
       "       [3200],\n",
       "       [3600],\n",
       "       [4000]])"
      ]
     },
     "execution_count": 15,
     "metadata": {},
     "output_type": "execute_result"
    }
   ],
   "source": [
    "X"
   ]
  },
  {
   "cell_type": "code",
   "execution_count": 16,
   "metadata": {},
   "outputs": [
    {
     "data": {
      "text/plain": [
       "array([[1],\n",
       "       [1],\n",
       "       [1],\n",
       "       [1],\n",
       "       [1]])"
      ]
     },
     "execution_count": 16,
     "metadata": {},
     "output_type": "execute_result"
    }
   ],
   "source": [
    "np.ones_like(X)"
   ]
  },
  {
   "cell_type": "code",
   "execution_count": 17,
   "metadata": {},
   "outputs": [],
   "source": [
    "# Add a column of ones to the input matrix to represent the intercept term\n",
    "X = np.hstack((np.ones_like(X), X))\n",
    "\n"
   ]
  },
  {
   "cell_type": "code",
   "execution_count": 18,
   "metadata": {},
   "outputs": [
    {
     "data": {
      "text/plain": [
       "array([[   1, 2600],\n",
       "       [   1, 3000],\n",
       "       [   1, 3200],\n",
       "       [   1, 3600],\n",
       "       [   1, 4000]])"
      ]
     },
     "execution_count": 18,
     "metadata": {},
     "output_type": "execute_result"
    }
   ],
   "source": [
    "X"
   ]
  },
  {
   "cell_type": "code",
   "execution_count": 19,
   "metadata": {},
   "outputs": [],
   "source": [
    "# Compute the coefficients of the linear regression using the Least Squares method\n",
    "coefficients = np.linalg.inv(X.T.dot(X)).dot(X.T).dot(y)\n"
   ]
  },
  {
   "cell_type": "code",
   "execution_count": 20,
   "metadata": {},
   "outputs": [
    {
     "name": "stdout",
     "output_type": "stream",
     "text": [
      "Intercept: [180616.43835617]\n",
      "Slope: [135.78767123]\n"
     ]
    }
   ],
   "source": [
    "\n",
    "# Print the coefficients: intercept and slope\n",
    "print(\"Intercept:\", coefficients[0])\n",
    "print(\"Slope:\", coefficients[1])\n",
    "\n"
   ]
  },
  {
   "cell_type": "code",
   "execution_count": 21,
   "metadata": {},
   "outputs": [
    {
     "name": "stdout",
     "output_type": "stream",
     "text": [
      "Predicted price for a house of size 3500 sq.ft.: [655873.28767123]\n"
     ]
    }
   ],
   "source": [
    "# Usee the linear regression model to predict the price of a new house\n",
    "new_house_size = 3500\n",
    "predicted_price = coefficients[0] + coefficients[1] * new_house_size\n",
    "print(\"Predicted price for a house of size\", new_house_size, \"sq.ft.:\", predicted_price)"
   ]
  }
 ],
 "metadata": {
  "kernelspec": {
   "display_name": "Python 3.9.7 ('base')",
   "language": "python",
   "name": "python3"
  },
  "language_info": {
   "codemirror_mode": {
    "name": "ipython",
    "version": 3
   },
   "file_extension": ".py",
   "mimetype": "text/x-python",
   "name": "python",
   "nbconvert_exporter": "python",
   "pygments_lexer": "ipython3",
   "version": "3.9.7"
  },
  "orig_nbformat": 4,
  "vscode": {
   "interpreter": {
    "hash": "124a5752b8730008b565af095091284f7af67900dd6677f25b99bf63cb425e4c"
   }
  }
 },
 "nbformat": 4,
 "nbformat_minor": 2
}
